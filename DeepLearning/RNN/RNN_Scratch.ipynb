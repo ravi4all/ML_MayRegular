{
 "cells": [
  {
   "cell_type": "code",
   "execution_count": 10,
   "metadata": {
    "collapsed": true
   },
   "outputs": [],
   "source": [
    "import copy, numpy as np\n",
    "np.random.seed(0)"
   ]
  },
  {
   "cell_type": "code",
   "execution_count": 11,
   "metadata": {
    "collapsed": true
   },
   "outputs": [],
   "source": [
    "# compute sigmoid nonlinearity\n",
    "def sigmoid(x):\n",
    "    output = 1/(1+np.exp(-x))\n",
    "    return output"
   ]
  },
  {
   "cell_type": "code",
   "execution_count": 12,
   "metadata": {
    "collapsed": true
   },
   "outputs": [],
   "source": [
    "# convert output of sigmoid function to its derivative\n",
    "def sigmoid_output_to_derivative(output):\n",
    "    return output*(1-output)"
   ]
  },
  {
   "cell_type": "code",
   "execution_count": 13,
   "metadata": {
    "collapsed": true
   },
   "outputs": [],
   "source": [
    "# We're going to create a lookup table that maps from an integer to its binary representation. \n",
    "# The binary representations will be our input and output data for each math problem we try to get\n",
    "# the network to solve. This lookup table will be very helpful in converting from integers to bit \n",
    "# strings.\n",
    "\n",
    "# training dataset generation\n",
    "int2binary = {}\n",
    "\n",
    "# maximum length of the binary numbers we'll be adding.\n",
    "binary_dim = 8"
   ]
  },
  {
   "cell_type": "code",
   "execution_count": 14,
   "metadata": {
    "collapsed": true
   },
   "outputs": [],
   "source": [
    "# This computes the largest number that is possible to represent with the binary \n",
    "# length we chose\n",
    "largest_number = pow(2,binary_dim)\n",
    "\n",
    "# This is a lookup table that maps from an integer to its binary representation.\n",
    "binary = np.unpackbits(np.array([range(largest_number)],dtype=np.uint8).T,axis=1)\n",
    "\n",
    "for i in range(largest_number):\n",
    "    int2binary[i] = binary[i]"
   ]
  },
  {
   "cell_type": "code",
   "execution_count": 15,
   "metadata": {
    "collapsed": true
   },
   "outputs": [],
   "source": [
    "# input variables\n",
    "\n",
    "#  learning rate\n",
    "alpha = 0.1\n",
    "\n",
    "# We are adding two numbers together, so we'll be feeding in two-bit strings one character at the \n",
    "# time each. Thus, we need to have two inputs to the network (one for each of the numbers being added).\n",
    "input_dim = 2\n",
    "\n",
    "# This is the size of the hidden layer that will be storing our carry bit.\n",
    "hidden_dim = 16\n",
    "\n",
    "# we're only predicting the sum, which is one number. Thus, we only need one output\n",
    "output_dim = 1"
   ]
  },
  {
   "cell_type": "code",
   "execution_count": 7,
   "metadata": {
    "collapsed": true
   },
   "outputs": [],
   "source": [
    "# initialize neural network weights\n",
    "\n",
    "# This is the matrix of weights that connects our input layer and our hidden layer.\n",
    "# Thus, it has \"input_dim\" rows and \"hidden_dim\" columns. (2 x 16 unless you change it).\n",
    "synapse_0 = 2*np.random.random((input_dim,hidden_dim)) - 1\n",
    "\n",
    "# This is the matrix of weights that connects the hidden layer to the output layer.\n",
    "# Thus, it has \"hidden_dim\" rows and \"output_dim\" columns. (16 x 1 unless you change it).\n",
    "synapse_1 = 2*np.random.random((hidden_dim,output_dim)) - 1\n",
    "\n",
    "# This is the matrix of weights that connects the hidden layer in the previous time-step\n",
    "# to the hidden layer in the current timestep. It also connects the hidden layer in the\n",
    "# current timestep to the hidden layer in the next timestep (we keep using it). \n",
    "# Thus, it has the dimensionality of \"hidden_dim\" rows and \"hidden_dim\" columns. \n",
    "# (16 x 16 unless you change it).\n",
    "synapse_h = 2*np.random.random((hidden_dim,hidden_dim)) - 1\n",
    "\n",
    "\n",
    "# These store the weight updates that we would like to make for each of the weight matrices.\n",
    "# After we've accumulated several weight updates, we'll actually update the matrices.\n",
    "synapse_0_update = np.zeros_like(synapse_0)\n",
    "synapse_1_update = np.zeros_like(synapse_1)\n",
    "synapse_h_update = np.zeros_like(synapse_h)"
   ]
  },
  {
   "cell_type": "code",
   "execution_count": 16,
   "metadata": {},
   "outputs": [
    {
     "name": "stdout",
     "output_type": "stream",
     "text": [
      "Error: [ 0.21803299]\n",
      "Pred: [0 1 0 1 1 0 1 1]\n",
      "True: [0 1 0 1 1 0 1 1]\n",
      "44 + 47 = 91\n",
      "------------\n",
      "Error: [ 0.14609197]\n",
      "Pred: [0 1 1 0 1 1 1 0]\n",
      "True: [0 1 1 0 1 1 1 0]\n",
      "81 + 29 = 110\n",
      "------------\n",
      "Error: [ 0.1599709]\n",
      "Pred: [0 1 1 0 0 1 1 0]\n",
      "True: [0 1 1 0 0 1 1 0]\n",
      "59 + 43 = 102\n",
      "------------\n",
      "Error: [ 0.1042304]\n",
      "Pred: [0 1 1 1 0 1 0 1]\n",
      "True: [0 1 1 1 0 1 0 1]\n",
      "33 + 84 = 117\n",
      "------------\n",
      "Error: [ 0.20615389]\n",
      "Pred: [1 0 1 1 0 0 0 1]\n",
      "True: [1 0 1 1 0 0 0 1]\n",
      "116 + 61 = 177\n",
      "------------\n",
      "Error: [ 0.16295477]\n",
      "Pred: [0 1 1 1 0 1 0 0]\n",
      "True: [0 1 1 1 0 1 0 0]\n",
      "107 + 9 = 116\n",
      "------------\n",
      "Error: [ 0.098017]\n",
      "Pred: [0 1 1 1 0 0 1 1]\n",
      "True: [0 1 1 1 0 0 1 1]\n",
      "0 + 115 = 115\n",
      "------------\n",
      "Error: [ 0.08861635]\n",
      "Pred: [0 1 0 1 1 1 0 1]\n",
      "True: [0 1 0 1 1 1 0 1]\n",
      "25 + 68 = 93\n",
      "------------\n",
      "Error: [ 0.17292424]\n",
      "Pred: [0 1 1 0 1 0 0 1]\n",
      "True: [0 1 1 0 1 0 0 1]\n",
      "79 + 26 = 105\n",
      "------------\n",
      "Error: [ 0.20454111]\n",
      "Pred: [0 1 1 1 0 1 0 1]\n",
      "True: [0 1 1 1 0 1 0 1]\n",
      "75 + 42 = 117\n",
      "------------\n"
     ]
    }
   ],
   "source": [
    "# training logic\n",
    "for j in range(10000):\n",
    "    \n",
    "    # generate a simple addition problem (a + b = c)\n",
    "    a_int = np.random.randint(largest_number/2) # int version\n",
    "    a = int2binary[a_int] # binary encoding\n",
    "\n",
    "    b_int = np.random.randint(largest_number/2) # int version\n",
    "    b = int2binary[b_int] # binary encoding\n",
    "\n",
    "    # true answer\n",
    "    c_int = a_int + b_int\n",
    "    c = int2binary[c_int]\n",
    "    \n",
    "    # where we'll store our best guess (binary encoded)\n",
    "    d = np.zeros_like(c)\n",
    "\n",
    "    overallError = 0\n",
    "    \n",
    "    layer_2_deltas = list()\n",
    "    layer_1_values = list()\n",
    "    layer_1_values.append(np.zeros(hidden_dim))\n",
    "    \n",
    "    # moving along the positions in the binary encoding\n",
    "    for position in range(binary_dim):\n",
    "        \n",
    "        # generate input and output\n",
    "        X = np.array([[a[binary_dim - position - 1],b[binary_dim - position - 1]]])\n",
    "        y = np.array([[c[binary_dim - position - 1]]]).T\n",
    "\n",
    "        # hidden layer (input ~+ prev_hidden)\n",
    "        layer_1 = sigmoid(np.dot(X,synapse_0) + np.dot(layer_1_values[-1],synapse_h))\n",
    "\n",
    "        # output layer (new binary representation)\n",
    "        layer_2 = sigmoid(np.dot(layer_1,synapse_1))\n",
    "\n",
    "        layer_2_error = y - layer_2\n",
    "        layer_2_deltas.append((layer_2_error)*sigmoid_output_to_derivative(layer_2))\n",
    "        overallError += np.abs(layer_2_error[0])\n",
    "    \n",
    "        # decode estimate so we can print it out\n",
    "        d[binary_dim - position - 1] = np.round(layer_2[0][0])\n",
    "        \n",
    "        # store hidden layer so we can use it in the next timestep\n",
    "        layer_1_values.append(copy.deepcopy(layer_1))\n",
    "    \n",
    "    future_layer_1_delta = np.zeros(hidden_dim)\n",
    "    \n",
    "    for position in range(binary_dim):\n",
    "        \n",
    "        X = np.array([[a[position],b[position]]])\n",
    "        layer_1 = layer_1_values[-position-1]\n",
    "        prev_layer_1 = layer_1_values[-position-2]\n",
    "        \n",
    "        # error at output layer\n",
    "        layer_2_delta = layer_2_deltas[-position-1]\n",
    "        # error at hidden layer\n",
    "        layer_1_delta = (future_layer_1_delta.dot(synapse_h.T) +\n",
    "                         layer_2_delta.dot(synapse_1.T)) *\n",
    "        sigmoid_output_to_derivative(layer_1)\n",
    "\n",
    "        # let's update all our weights so we can try again\n",
    "        synapse_1_update += np.atleast_2d(layer_1).T.dot(layer_2_delta)\n",
    "        synapse_h_update += np.atleast_2d(prev_layer_1).T.dot(layer_1_delta)\n",
    "        synapse_0_update += X.T.dot(layer_1_delta)\n",
    "        \n",
    "        future_layer_1_delta = layer_1_delta\n",
    "    \n",
    "\n",
    "    synapse_0 += synapse_0_update * alpha\n",
    "    synapse_1 += synapse_1_update * alpha\n",
    "    synapse_h += synapse_h_update * alpha    \n",
    "\n",
    "    synapse_0_update *= 0\n",
    "    synapse_1_update *= 0\n",
    "    synapse_h_update *= 0\n",
    "    \n",
    "    # print out progress\n",
    "    if(j % 1000 == 0):\n",
    "        print(\"Error:\",overallError)\n",
    "        print(\"Pred:\",d)\n",
    "        print(\"True:\",c)\n",
    "        out = 0\n",
    "        for index,x in enumerate(reversed(d)):\n",
    "            out += x*pow(2,index)\n",
    "        print(str(a_int) + \" + \" + str(b_int) + \" = \" + str(out))\n",
    "        print(\"------------\")"
   ]
  },
  {
   "cell_type": "code",
   "execution_count": null,
   "metadata": {
    "collapsed": true
   },
   "outputs": [],
   "source": []
  }
 ],
 "metadata": {
  "kernelspec": {
   "display_name": "Python 3",
   "language": "python",
   "name": "python3"
  },
  "language_info": {
   "codemirror_mode": {
    "name": "ipython",
    "version": 3
   },
   "file_extension": ".py",
   "mimetype": "text/x-python",
   "name": "python",
   "nbconvert_exporter": "python",
   "pygments_lexer": "ipython3",
   "version": "3.7.3"
  }
 },
 "nbformat": 4,
 "nbformat_minor": 2
}
